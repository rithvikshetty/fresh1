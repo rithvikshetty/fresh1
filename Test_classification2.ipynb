{
  "nbformat": 4,
  "nbformat_minor": 0,
  "metadata": {
    "colab": {
      "name": "Test_classification2.ipynb",
      "provenance": [],
      "authorship_tag": "ABX9TyOsSz1eAQAmhMeLU9Nj8Vqf",
      "include_colab_link": true
    },
    "kernelspec": {
      "name": "python3",
      "display_name": "Python 3"
    },
    "language_info": {
      "name": "python"
    }
  },
  "cells": [
    {
      "cell_type": "markdown",
      "metadata": {
        "id": "view-in-github",
        "colab_type": "text"
      },
      "source": [
        "<a href=\"https://colab.research.google.com/github/sandeeptuluri/fresh1/blob/main/Test_classification2.ipynb\" target=\"_parent\"><img src=\"https://colab.research.google.com/assets/colab-badge.svg\" alt=\"Open In Colab\"/></a>"
      ]
    },
    {
      "cell_type": "code",
      "metadata": {
        "id": "Tq6iu6NE4lgi"
      },
      "source": [
        "import re\n",
        "import nltk\n",
        "import numpy as np\n",
        "import pandas as pd\n",
        "from tensorflow.keras.models import Sequential\n",
        "from tensorflow.keras.preprocessing.text import Tokenizer\n",
        "from tensorflow.keras.layers import Embedding, LSTM, Dense\n",
        "from tensorflow.keras.preprocessing.sequence import pad_sequences"
      ],
      "execution_count": null,
      "outputs": []
    },
    {
      "cell_type": "code",
      "metadata": {
        "colab": {
          "base_uri": "https://localhost:8080/"
        },
        "id": "JwBBKeuD6wMf",
        "outputId": "63fc5cc3-9472-435a-9105-f0b49f79e7a8"
      },
      "source": [
        "nltk.download('stopwords')"
      ],
      "execution_count": null,
      "outputs": [
        {
          "output_type": "stream",
          "name": "stdout",
          "text": [
            "[nltk_data] Downloading package stopwords to /root/nltk_data...\n",
            "[nltk_data]   Unzipping corpora/stopwords.zip.\n"
          ]
        },
        {
          "output_type": "execute_result",
          "data": {
            "text/plain": [
              "True"
            ]
          },
          "metadata": {},
          "execution_count": 2
        }
      ]
    },
    {
      "cell_type": "code",
      "metadata": {
        "colab": {
          "base_uri": "https://localhost:8080/",
          "height": 204
        },
        "id": "1NkFvxpq4wEy",
        "outputId": "1032f6bc-d207-4f03-e0ef-5689ab2fc9f4"
      },
      "source": [
        "df = pd.read_csv('https://raw.githubusercontent.com/sandeeptuluri/fresh1/main/Data%20extract%20for%20Sandeep.csv')\n",
        "df.head()"
      ],
      "execution_count": null,
      "outputs": [
        {
          "output_type": "execute_result",
          "data": {
            "text/html": [
              "<div>\n",
              "<style scoped>\n",
              "    .dataframe tbody tr th:only-of-type {\n",
              "        vertical-align: middle;\n",
              "    }\n",
              "\n",
              "    .dataframe tbody tr th {\n",
              "        vertical-align: top;\n",
              "    }\n",
              "\n",
              "    .dataframe thead th {\n",
              "        text-align: right;\n",
              "    }\n",
              "</style>\n",
              "<table border=\"1\" class=\"dataframe\">\n",
              "  <thead>\n",
              "    <tr style=\"text-align: right;\">\n",
              "      <th></th>\n",
              "      <th>id</th>\n",
              "      <th>summary</th>\n",
              "      <th>topicID</th>\n",
              "      <th>topicName</th>\n",
              "    </tr>\n",
              "  </thead>\n",
              "  <tbody>\n",
              "    <tr>\n",
              "      <th>0</th>\n",
              "      <td>26696</td>\n",
              "      <td>Expo 2020 Dubai is finally open after an 8-mon...</td>\n",
              "      <td>13</td>\n",
              "      <td>Technology</td>\n",
              "    </tr>\n",
              "    <tr>\n",
              "      <th>1</th>\n",
              "      <td>26694</td>\n",
              "      <td>The EU has announced a humanitarian aid packag...</td>\n",
              "      <td>3</td>\n",
              "      <td>Politics</td>\n",
              "    </tr>\n",
              "    <tr>\n",
              "      <th>2</th>\n",
              "      <td>26693</td>\n",
              "      <td>Dutch royal weddings need the approval of parl...</td>\n",
              "      <td>3</td>\n",
              "      <td>Politics</td>\n",
              "    </tr>\n",
              "    <tr>\n",
              "      <th>3</th>\n",
              "      <td>26692</td>\n",
              "      <td>Governor Sheinbaum has confirmed that a statue...</td>\n",
              "      <td>10</td>\n",
              "      <td>North America</td>\n",
              "    </tr>\n",
              "    <tr>\n",
              "      <th>4</th>\n",
              "      <td>26690</td>\n",
              "      <td>US officials are investigating possible cases ...</td>\n",
              "      <td>3</td>\n",
              "      <td>Politics</td>\n",
              "    </tr>\n",
              "  </tbody>\n",
              "</table>\n",
              "</div>"
            ],
            "text/plain": [
              "      id  ...      topicName\n",
              "0  26696  ...     Technology\n",
              "1  26694  ...       Politics\n",
              "2  26693  ...       Politics\n",
              "3  26692  ...  North America\n",
              "4  26690  ...       Politics\n",
              "\n",
              "[5 rows x 4 columns]"
            ]
          },
          "metadata": {},
          "execution_count": 3
        }
      ]
    },
    {
      "cell_type": "code",
      "metadata": {
        "id": "SLzQnSen41yK"
      },
      "source": [
        "vocab_size = 10000\n",
        "batch_size = 32\n",
        "epochs = 4\n",
        "max_len = 25"
      ],
      "execution_count": null,
      "outputs": []
    },
    {
      "cell_type": "code",
      "metadata": {
        "id": "Bl3Oz0of5klQ"
      },
      "source": [
        "def clean_text(text):\n",
        "  text = re.sub(r'[^a-zA-Z]', ' ', text)\n",
        "  text = text.lower()\n",
        "  text = text.split()\n",
        "  text = [word for word in text if not word in set(nltk.corpus.stopwords.words('english'))]\n",
        "  text = ' '.join(text)\n",
        "  return text"
      ],
      "execution_count": null,
      "outputs": []
    },
    {
      "cell_type": "code",
      "metadata": {
        "id": "o6AZ7Lej6cyn"
      },
      "source": [
        "df['summary'] = df['summary'].apply(lambda x: clean_text(x))"
      ],
      "execution_count": null,
      "outputs": []
    },
    {
      "cell_type": "code",
      "metadata": {
        "id": "G1KMyHa94_DE"
      },
      "source": [
        "from sklearn.model_selection import train_test_split"
      ],
      "execution_count": null,
      "outputs": []
    },
    {
      "cell_type": "code",
      "metadata": {
        "id": "lg2GG6mu5frv"
      },
      "source": [
        "X = df['summary']\n",
        "y = df['topicID']"
      ],
      "execution_count": null,
      "outputs": []
    },
    {
      "cell_type": "code",
      "metadata": {
        "id": "qa7_DQLc5h6A"
      },
      "source": [
        "X_train,X_test,y_train,y_test = train_test_split(X,y,test_size=0.3,random_state=101)"
      ],
      "execution_count": null,
      "outputs": []
    },
    {
      "cell_type": "code",
      "metadata": {
        "id": "CPHT2-Fh6MG1"
      },
      "source": [
        "tokenizer = Tokenizer(num_words=vocab_size)\n",
        "\n",
        "tokenizer.fit_on_texts(X_train)\n",
        "sequences = tokenizer.texts_to_sequences(X_train)\n",
        "X_train_new = pad_sequences(sequences, maxlen=max_len)"
      ],
      "execution_count": null,
      "outputs": []
    },
    {
      "cell_type": "code",
      "metadata": {
        "id": "onjTy3wg7kpP"
      },
      "source": [
        "model = Sequential()\n",
        "model.add(Embedding(vocab_size, 128))\n",
        "model.add(LSTM(128, dropout=0.2))\n",
        "model.add(Dense(32, activation='relu'))\n",
        "model.add(Dense(1, activation='softmax'))\n",
        "\n",
        "model.compile(loss='categorical_crossentropy', optimizer = 'adam', metrics=['accuracy'])"
      ],
      "execution_count": null,
      "outputs": []
    },
    {
      "cell_type": "code",
      "metadata": {
        "colab": {
          "base_uri": "https://localhost:8080/"
        },
        "id": "O7Z5go8B7pnn",
        "outputId": "3fd4b27f-7741-4dbb-90f5-e4422a78b8f6"
      },
      "source": [
        "model.fit(X_train_new, y_train, batch_size=batch_size, epochs=epochs, verbose=1)"
      ],
      "execution_count": null,
      "outputs": [
        {
          "output_type": "stream",
          "name": "stdout",
          "text": [
            "Epoch 1/4\n",
            "281/281 [==============================] - 18s 57ms/step - loss: 0.0000e+00 - accuracy: 0.0000e+00\n",
            "Epoch 2/4\n",
            "281/281 [==============================] - 15s 53ms/step - loss: 0.0000e+00 - accuracy: 0.0000e+00\n",
            "Epoch 3/4\n",
            "281/281 [==============================] - 15s 53ms/step - loss: 0.0000e+00 - accuracy: 0.0000e+00\n",
            "Epoch 4/4\n",
            "281/281 [==============================] - 14s 50ms/step - loss: 0.0000e+00 - accuracy: 0.0000e+00\n"
          ]
        },
        {
          "output_type": "execute_result",
          "data": {
            "text/plain": [
              "<keras.callbacks.History at 0x7fd1de90f350>"
            ]
          },
          "metadata": {},
          "execution_count": 18
        }
      ]
    },
    {
      "cell_type": "code",
      "metadata": {
        "id": "YI83SjUX7yXI",
        "colab": {
          "base_uri": "https://localhost:8080/"
        },
        "outputId": "378ebe48-21e9-4ba4-ec99-5c5f6ac20bc2"
      },
      "source": [
        "model.history.history"
      ],
      "execution_count": null,
      "outputs": [
        {
          "output_type": "execute_result",
          "data": {
            "text/plain": [
              "{'accuracy': [0.0, 0.0, 0.0, 0.0], 'loss': [0.0, 0.0, 0.0, 0.0]}"
            ]
          },
          "metadata": {},
          "execution_count": 19
        }
      ]
    },
    {
      "cell_type": "code",
      "metadata": {
        "id": "MlXGYZ2ce2rL"
      },
      "source": [
        "tokenizer1 = Tokenizer(num_words=vocab_size)\n",
        "\n",
        "tokenizer1.fit_on_texts(X_test)\n",
        "sequences1 = tokenizer.texts_to_sequences(X_test)\n",
        "X_test_new1 = pad_sequences(sequences1, maxlen=max_len)"
      ],
      "execution_count": null,
      "outputs": []
    },
    {
      "cell_type": "code",
      "metadata": {
        "id": "0pXnGhanezbu"
      },
      "source": [
        "predictions = model.predict(X_test_new1)"
      ],
      "execution_count": null,
      "outputs": []
    },
    {
      "cell_type": "code",
      "metadata": {
        "id": "FLAtv6SqqKbt"
      },
      "source": [
        "a = X_test_new1[:10]"
      ],
      "execution_count": null,
      "outputs": []
    },
    {
      "cell_type": "code",
      "metadata": {
        "colab": {
          "base_uri": "https://localhost:8080/"
        },
        "id": "zQ6bH5bQqm_r",
        "outputId": "71a1b3e7-83a5-4698-c270-de25dcab30c7"
      },
      "source": [
        "model.predict(a)"
      ],
      "execution_count": null,
      "outputs": [
        {
          "output_type": "execute_result",
          "data": {
            "text/plain": [
              "array([[1.],\n",
              "       [1.],\n",
              "       [1.],\n",
              "       [1.],\n",
              "       [1.],\n",
              "       [1.],\n",
              "       [1.],\n",
              "       [1.],\n",
              "       [1.],\n",
              "       [1.]], dtype=float32)"
            ]
          },
          "metadata": {},
          "execution_count": 29
        }
      ]
    },
    {
      "cell_type": "code",
      "metadata": {
        "id": "N0zM-5oRqueC"
      },
      "source": [
        ""
      ],
      "execution_count": null,
      "outputs": []
    }
  ]
}