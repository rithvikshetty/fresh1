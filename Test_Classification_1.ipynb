{
  "nbformat": 4,
  "nbformat_minor": 0,
  "metadata": {
    "colab": {
      "name": "Test Classification 1.ipynb",
      "provenance": [],
      "authorship_tag": "ABX9TyMnsHX2aZCx1bNK0CVSmAXU",
      "include_colab_link": true
    },
    "kernelspec": {
      "display_name": "Python 3",
      "name": "python3"
    },
    "language_info": {
      "name": "python"
    }
  },
  "cells": [
    {
      "cell_type": "markdown",
      "metadata": {
        "id": "view-in-github",
        "colab_type": "text"
      },
      "source": [
        "<a href=\"https://colab.research.google.com/github/sandeeptuluri/fresh1/blob/main/Test_Classification_1.ipynb\" target=\"_parent\"><img src=\"https://colab.research.google.com/assets/colab-badge.svg\" alt=\"Open In Colab\"/></a>"
      ]
    },
    {
      "cell_type": "code",
      "metadata": {
        "id": "LHxpYKbSggPD"
      },
      "source": [
        "import pandas as pd\n",
        "import numpy as np\n",
        "import seaborn as sns\n",
        "import matplotlib.pyplot as plt"
      ],
      "execution_count": null,
      "outputs": []
    },
    {
      "cell_type": "code",
      "metadata": {
        "colab": {
          "base_uri": "https://localhost:8080/",
          "height": 204
        },
        "id": "fM2PmIxMg7pr",
        "outputId": "f2a8f37a-8073-4512-df39-cd5da9f693bc"
      },
      "source": [
        "df = pd.read_csv('https://raw.githubusercontent.com/sandeeptuluri/fresh1/main/Data%20extract%20for%20Sandeep.csv')\n",
        "df.head()"
      ],
      "execution_count": null,
      "outputs": [
        {
          "output_type": "execute_result",
          "data": {
            "text/html": [
              "<div>\n",
              "<style scoped>\n",
              "    .dataframe tbody tr th:only-of-type {\n",
              "        vertical-align: middle;\n",
              "    }\n",
              "\n",
              "    .dataframe tbody tr th {\n",
              "        vertical-align: top;\n",
              "    }\n",
              "\n",
              "    .dataframe thead th {\n",
              "        text-align: right;\n",
              "    }\n",
              "</style>\n",
              "<table border=\"1\" class=\"dataframe\">\n",
              "  <thead>\n",
              "    <tr style=\"text-align: right;\">\n",
              "      <th></th>\n",
              "      <th>id</th>\n",
              "      <th>summary</th>\n",
              "      <th>topicID</th>\n",
              "      <th>topicName</th>\n",
              "    </tr>\n",
              "  </thead>\n",
              "  <tbody>\n",
              "    <tr>\n",
              "      <th>0</th>\n",
              "      <td>26696</td>\n",
              "      <td>Expo 2020 Dubai is finally open after an 8-mon...</td>\n",
              "      <td>13</td>\n",
              "      <td>Technology</td>\n",
              "    </tr>\n",
              "    <tr>\n",
              "      <th>1</th>\n",
              "      <td>26694</td>\n",
              "      <td>The EU has announced a humanitarian aid packag...</td>\n",
              "      <td>3</td>\n",
              "      <td>Politics</td>\n",
              "    </tr>\n",
              "    <tr>\n",
              "      <th>2</th>\n",
              "      <td>26693</td>\n",
              "      <td>Dutch royal weddings need the approval of parl...</td>\n",
              "      <td>3</td>\n",
              "      <td>Politics</td>\n",
              "    </tr>\n",
              "    <tr>\n",
              "      <th>3</th>\n",
              "      <td>26692</td>\n",
              "      <td>Governor Sheinbaum has confirmed that a statue...</td>\n",
              "      <td>10</td>\n",
              "      <td>North America</td>\n",
              "    </tr>\n",
              "    <tr>\n",
              "      <th>4</th>\n",
              "      <td>26690</td>\n",
              "      <td>US officials are investigating possible cases ...</td>\n",
              "      <td>3</td>\n",
              "      <td>Politics</td>\n",
              "    </tr>\n",
              "  </tbody>\n",
              "</table>\n",
              "</div>"
            ],
            "text/plain": [
              "      id  ...      topicName\n",
              "0  26696  ...     Technology\n",
              "1  26694  ...       Politics\n",
              "2  26693  ...       Politics\n",
              "3  26692  ...  North America\n",
              "4  26690  ...       Politics\n",
              "\n",
              "[5 rows x 4 columns]"
            ]
          },
          "metadata": {},
          "execution_count": 2
        }
      ]
    },
    {
      "cell_type": "code",
      "metadata": {
        "colab": {
          "base_uri": "https://localhost:8080/"
        },
        "id": "Mc7a2EE9AVjR",
        "outputId": "4aac8c3e-96c0-4d88-d19d-325e1bd280e5"
      },
      "source": [
        "df.isnull().sum()"
      ],
      "execution_count": null,
      "outputs": [
        {
          "output_type": "execute_result",
          "data": {
            "text/plain": [
              "id           0\n",
              "summary      0\n",
              "topicID      0\n",
              "topicName    0\n",
              "dtype: int64"
            ]
          },
          "metadata": {},
          "execution_count": 3
        }
      ]
    },
    {
      "cell_type": "code",
      "metadata": {
        "colab": {
          "base_uri": "https://localhost:8080/"
        },
        "id": "ZJrmtVikg_x-",
        "outputId": "6d14e323-a393-4af9-88b9-b4b0cd8cbb48"
      },
      "source": [
        "df.topicName.nunique()"
      ],
      "execution_count": null,
      "outputs": [
        {
          "output_type": "execute_result",
          "data": {
            "text/plain": [
              "29"
            ]
          },
          "metadata": {},
          "execution_count": 4
        }
      ]
    },
    {
      "cell_type": "code",
      "metadata": {
        "colab": {
          "base_uri": "https://localhost:8080/",
          "height": 297
        },
        "id": "fKKsW_L8_10p",
        "outputId": "fd29c845-b570-48fb-aa6b-6d95c10fcca4"
      },
      "source": [
        "df.describe()"
      ],
      "execution_count": null,
      "outputs": [
        {
          "output_type": "execute_result",
          "data": {
            "text/html": [
              "<div>\n",
              "<style scoped>\n",
              "    .dataframe tbody tr th:only-of-type {\n",
              "        vertical-align: middle;\n",
              "    }\n",
              "\n",
              "    .dataframe tbody tr th {\n",
              "        vertical-align: top;\n",
              "    }\n",
              "\n",
              "    .dataframe thead th {\n",
              "        text-align: right;\n",
              "    }\n",
              "</style>\n",
              "<table border=\"1\" class=\"dataframe\">\n",
              "  <thead>\n",
              "    <tr style=\"text-align: right;\">\n",
              "      <th></th>\n",
              "      <th>id</th>\n",
              "      <th>topicID</th>\n",
              "    </tr>\n",
              "  </thead>\n",
              "  <tbody>\n",
              "    <tr>\n",
              "      <th>count</th>\n",
              "      <td>12802.000000</td>\n",
              "      <td>12802.000000</td>\n",
              "    </tr>\n",
              "    <tr>\n",
              "      <th>mean</th>\n",
              "      <td>18746.503359</td>\n",
              "      <td>9.722231</td>\n",
              "    </tr>\n",
              "    <tr>\n",
              "      <th>std</th>\n",
              "      <td>4643.310327</td>\n",
              "      <td>6.670339</td>\n",
              "    </tr>\n",
              "    <tr>\n",
              "      <th>min</th>\n",
              "      <td>10858.000000</td>\n",
              "      <td>2.000000</td>\n",
              "    </tr>\n",
              "    <tr>\n",
              "      <th>25%</th>\n",
              "      <td>14614.250000</td>\n",
              "      <td>5.000000</td>\n",
              "    </tr>\n",
              "    <tr>\n",
              "      <th>50%</th>\n",
              "      <td>18707.500000</td>\n",
              "      <td>7.000000</td>\n",
              "    </tr>\n",
              "    <tr>\n",
              "      <th>75%</th>\n",
              "      <td>22829.750000</td>\n",
              "      <td>14.000000</td>\n",
              "    </tr>\n",
              "    <tr>\n",
              "      <th>max</th>\n",
              "      <td>26696.000000</td>\n",
              "      <td>33.000000</td>\n",
              "    </tr>\n",
              "  </tbody>\n",
              "</table>\n",
              "</div>"
            ],
            "text/plain": [
              "                 id       topicID\n",
              "count  12802.000000  12802.000000\n",
              "mean   18746.503359      9.722231\n",
              "std     4643.310327      6.670339\n",
              "min    10858.000000      2.000000\n",
              "25%    14614.250000      5.000000\n",
              "50%    18707.500000      7.000000\n",
              "75%    22829.750000     14.000000\n",
              "max    26696.000000     33.000000"
            ]
          },
          "metadata": {},
          "execution_count": 5
        }
      ]
    },
    {
      "cell_type": "code",
      "metadata": {
        "id": "IpILP4jGAwtX"
      },
      "source": [
        "df['summary'] = df['summary'].apply(lambda summary: (summary).lower())"
      ],
      "execution_count": null,
      "outputs": []
    },
    {
      "cell_type": "code",
      "metadata": {
        "id": "swyQZzGJkYuH"
      },
      "source": [
        "from sklearn.model_selection import train_test_split"
      ],
      "execution_count": null,
      "outputs": []
    },
    {
      "cell_type": "code",
      "metadata": {
        "id": "jH7NWjI0k2De",
        "colab": {
          "base_uri": "https://localhost:8080/",
          "height": 129
        },
        "outputId": "76cf41b4-7e25-40c4-def8-79e4f65a5df1"
      },
      "source": [
        "X = df['summary']\n",
        "y = df['topicID']"
      ],
      "execution_count": null,
      "outputs": [
        {
          "output_type": "error",
          "ename": "SyntaxError",
          "evalue": "ignored",
          "traceback": [
            "\u001b[0;36m  File \u001b[0;32m\"<ipython-input-33-c66a70135ebf>\"\u001b[0;36m, line \u001b[0;32m1\u001b[0m\n\u001b[0;31m    X = df[df['summary'],axis=1]\u001b[0m\n\u001b[0m                             ^\u001b[0m\n\u001b[0;31mSyntaxError\u001b[0m\u001b[0;31m:\u001b[0m invalid syntax\n"
          ]
        }
      ]
    },
    {
      "cell_type": "code",
      "metadata": {
        "id": "h53yOB9RklPE"
      },
      "source": [
        "X_train,X_test,y_train,y_test = train_test_split(X,y,test_size=0.3,random_state=101)"
      ],
      "execution_count": null,
      "outputs": []
    },
    {
      "cell_type": "code",
      "metadata": {
        "colab": {
          "base_uri": "https://localhost:8080/"
        },
        "id": "cLEUN8-KaPqw",
        "outputId": "a29db3c8-af52-4e9a-b448-164f0fa7a84f"
      },
      "source": [
        "y_train.shape"
      ],
      "execution_count": null,
      "outputs": [
        {
          "output_type": "execute_result",
          "data": {
            "text/plain": [
              "(8961,)"
            ]
          },
          "metadata": {},
          "execution_count": 17
        }
      ]
    },
    {
      "cell_type": "code",
      "metadata": {
        "id": "-p1VQoCRpnRV"
      },
      "source": [
        "import tensorflow as tf"
      ],
      "execution_count": null,
      "outputs": []
    },
    {
      "cell_type": "code",
      "metadata": {
        "id": "Fl47z33IpdhP"
      },
      "source": [
        "import tensorflow_hub as hub"
      ],
      "execution_count": null,
      "outputs": []
    },
    {
      "cell_type": "code",
      "metadata": {
        "id": "y5Ak9_-3l2aZ"
      },
      "source": [
        "embedding = \"https://tfhub.dev/google/nnlm-en-dim50/2\"\n",
        "hub_layer = hub.KerasLayer(embedding, input_shape=[], \n",
        "                           dtype=tf.string, trainable=True)\n",
        "#hub_layer(train)"
      ],
      "execution_count": null,
      "outputs": []
    },
    {
      "cell_type": "markdown",
      "metadata": {
        "id": "8hNdcdFtqdxF"
      },
      "source": [
        "Building the Model..."
      ]
    },
    {
      "cell_type": "code",
      "metadata": {
        "id": "kXwbwvCUqcPi"
      },
      "source": [
        "from tensorflow.keras.models import Sequential\n",
        "from tensorflow.keras.layers import Dense"
      ],
      "execution_count": null,
      "outputs": []
    },
    {
      "cell_type": "code",
      "metadata": {
        "id": "TUBX59ULrN9O"
      },
      "source": [
        "model = Sequential()\n",
        "model.add(hub_layer)\n",
        "model.add(Dense(16, activation='relu'))\n",
        "model.add(Dense(1))\n"
      ],
      "execution_count": null,
      "outputs": []
    },
    {
      "cell_type": "code",
      "metadata": {
        "id": "yqNoxWHVrS9G"
      },
      "source": [
        "model.compile(optimizer='adam',\n",
        "              loss='categorical_crossentropy',\n",
        "              metrics=['accuracy'])"
      ],
      "execution_count": null,
      "outputs": []
    },
    {
      "cell_type": "code",
      "metadata": {
        "colab": {
          "base_uri": "https://localhost:8080/"
        },
        "id": "B03kd5K2rXv9",
        "outputId": "22ece4ad-493c-4a42-a433-4a6deb29646f"
      },
      "source": [
        "history = model.fit(X_train,y_train,epochs=10,validation_data=(X_test,y_test),verbose=1)"
      ],
      "execution_count": null,
      "outputs": [
        {
          "output_type": "stream",
          "name": "stdout",
          "text": [
            "Epoch 1/10\n",
            "281/281 [==============================] - 158s 562ms/step - loss: 1.1599e-06 - accuracy: 0.0000e+00 - val_loss: 1.1569e-06 - val_accuracy: 0.0000e+00\n",
            "Epoch 2/10\n",
            "281/281 [==============================] - 158s 563ms/step - loss: 1.1599e-06 - accuracy: 0.0000e+00 - val_loss: 1.1569e-06 - val_accuracy: 0.0000e+00\n",
            "Epoch 3/10\n",
            "281/281 [==============================] - 159s 566ms/step - loss: 1.1599e-06 - accuracy: 0.0000e+00 - val_loss: 1.1569e-06 - val_accuracy: 0.0000e+00\n",
            "Epoch 4/10\n",
            "281/281 [==============================] - 159s 565ms/step - loss: 1.1599e-06 - accuracy: 0.0000e+00 - val_loss: 1.1569e-06 - val_accuracy: 0.0000e+00\n",
            "Epoch 5/10\n",
            "281/281 [==============================] - 159s 565ms/step - loss: 1.1599e-06 - accuracy: 0.0000e+00 - val_loss: 1.1569e-06 - val_accuracy: 0.0000e+00\n",
            "Epoch 6/10\n",
            "281/281 [==============================] - 161s 573ms/step - loss: 1.1599e-06 - accuracy: 0.0000e+00 - val_loss: 1.1569e-06 - val_accuracy: 0.0000e+00\n",
            "Epoch 7/10\n",
            "281/281 [==============================] - 162s 576ms/step - loss: 1.1599e-06 - accuracy: 0.0000e+00 - val_loss: 1.1569e-06 - val_accuracy: 0.0000e+00\n",
            "Epoch 8/10\n",
            "281/281 [==============================] - 160s 569ms/step - loss: 1.1599e-06 - accuracy: 0.0000e+00 - val_loss: 1.1569e-06 - val_accuracy: 0.0000e+00\n",
            "Epoch 9/10\n",
            "281/281 [==============================] - 162s 578ms/step - loss: 1.1599e-06 - accuracy: 0.0000e+00 - val_loss: 1.1569e-06 - val_accuracy: 0.0000e+00\n",
            "Epoch 10/10\n",
            "281/281 [==============================] - 161s 573ms/step - loss: 1.1599e-06 - accuracy: 0.0000e+00 - val_loss: 1.1569e-06 - val_accuracy: 0.0000e+00\n"
          ]
        }
      ]
    },
    {
      "cell_type": "code",
      "metadata": {
        "id": "eo8qkURCrqg_"
      },
      "source": [
        "loss = model.history.history"
      ],
      "execution_count": null,
      "outputs": []
    },
    {
      "cell_type": "code",
      "metadata": {
        "colab": {
          "base_uri": "https://localhost:8080/"
        },
        "id": "yPGgCNaYnsxP",
        "outputId": "9517c597-f66e-41cf-fc70-4958c1127d1b"
      },
      "source": [
        "loss"
      ],
      "execution_count": null,
      "outputs": [
        {
          "output_type": "execute_result",
          "data": {
            "text/plain": [
              "{'accuracy': [0.0, 0.0, 0.0, 0.0, 0.0, 0.0, 0.0, 0.0, 0.0, 0.0],\n",
              " 'loss': [1.1598727951422916e-06,\n",
              "  1.1598727951422916e-06,\n",
              "  1.1598727951422916e-06,\n",
              "  1.1598727951422916e-06,\n",
              "  1.1598727951422916e-06,\n",
              "  1.1598727951422916e-06,\n",
              "  1.1598727951422916e-06,\n",
              "  1.1598727951422916e-06,\n",
              "  1.1598727951422916e-06,\n",
              "  1.1598727951422916e-06],\n",
              " 'val_accuracy': [0.0, 0.0, 0.0, 0.0, 0.0, 0.0, 0.0, 0.0, 0.0, 0.0],\n",
              " 'val_loss': [1.1568981790333055e-06,\n",
              "  1.1568981790333055e-06,\n",
              "  1.1568981790333055e-06,\n",
              "  1.1568981790333055e-06,\n",
              "  1.1568981790333055e-06,\n",
              "  1.1568981790333055e-06,\n",
              "  1.1568981790333055e-06,\n",
              "  1.1568981790333055e-06,\n",
              "  1.1568981790333055e-06,\n",
              "  1.1568981790333055e-06]}"
            ]
          },
          "metadata": {},
          "execution_count": 42
        }
      ]
    },
    {
      "cell_type": "code",
      "metadata": {
        "id": "tQDkYEZloCHP"
      },
      "source": [
        "predictions = model.predict(X_test)"
      ],
      "execution_count": null,
      "outputs": []
    },
    {
      "cell_type": "code",
      "metadata": {
        "colab": {
          "base_uri": "https://localhost:8080/"
        },
        "id": "6zo9WQe5oIrR",
        "outputId": "5fa1358b-f3e1-4a2e-ad06-5b4703f1908c"
      },
      "source": [
        "model.metrics_names"
      ],
      "execution_count": null,
      "outputs": [
        {
          "output_type": "execute_result",
          "data": {
            "text/plain": [
              "['loss', 'accuracy']"
            ]
          },
          "metadata": {},
          "execution_count": 44
        }
      ]
    },
    {
      "cell_type": "code",
      "metadata": {
        "id": "2yK5_pjSomlk"
      },
      "source": [
        "a = X_test[: 10 :]"
      ],
      "execution_count": null,
      "outputs": []
    },
    {
      "cell_type": "code",
      "metadata": {
        "colab": {
          "base_uri": "https://localhost:8080/"
        },
        "id": "DOxuO2map3QH",
        "outputId": "01bf7aee-471c-450f-baa4-eeac1ef7ec15"
      },
      "source": [
        "a"
      ],
      "execution_count": null,
      "outputs": [
        {
          "output_type": "execute_result",
          "data": {
            "text/plain": [
              "5621    yeimo, a papuan activist was arrested and char...\n",
              "3737    despite the surge in infections among young pe...\n",
              "Name: summary, dtype: object"
            ]
          },
          "metadata": {},
          "execution_count": 57
        }
      ]
    },
    {
      "cell_type": "code",
      "metadata": {
        "colab": {
          "base_uri": "https://localhost:8080/"
        },
        "id": "3AshgHcFo2no",
        "outputId": "7a86c967-0bc9-4918-f6d8-1e33d80d8c6c"
      },
      "source": [
        "model.predict(a)"
      ],
      "execution_count": null,
      "outputs": [
        {
          "output_type": "execute_result",
          "data": {
            "text/plain": [
              "array([[-0.27528095],\n",
              "       [-0.36409616],\n",
              "       [-0.3638059 ],\n",
              "       [-0.39970925],\n",
              "       [-0.43399236],\n",
              "       [-0.0152904 ],\n",
              "       [-0.30917475],\n",
              "       [-0.22706847],\n",
              "       [-0.33879825],\n",
              "       [-0.01623777]], dtype=float32)"
            ]
          },
          "metadata": {},
          "execution_count": 60
        }
      ]
    },
    {
      "cell_type": "code",
      "metadata": {
        "id": "UkoASqP5pOfi"
      },
      "source": [
        ""
      ],
      "execution_count": null,
      "outputs": []
    }
  ]
}